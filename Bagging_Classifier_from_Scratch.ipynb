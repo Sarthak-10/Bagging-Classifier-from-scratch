{
  "nbformat": 4,
  "nbformat_minor": 0,
  "metadata": {
    "colab": {
      "name": "Bagging Classifier from Scratch.ipynb",
      "provenance": [],
      "collapsed_sections": []
    },
    "kernelspec": {
      "name": "python3",
      "display_name": "Python 3"
    },
    "language_info": {
      "name": "python"
    }
  },
  "cells": [
    {
      "cell_type": "code",
      "execution_count": null,
      "metadata": {
        "id": "mXths-CSWX5X",
        "colab": {
          "base_uri": "https://localhost:8080/"
        },
        "outputId": "e0ec1524-e7a8-4771-8e8f-2b9312185322"
      },
      "outputs": [
        {
          "output_type": "stream",
          "name": "stdout",
          "text": [
            "Mounted at /content/gdrive\n"
          ]
        }
      ],
      "source": [
        "from google.colab import drive\n",
        "drive.mount(\"/content/gdrive\")"
      ]
    },
    {
      "cell_type": "markdown",
      "source": [
        "Extracting the MNIST Dataset"
      ],
      "metadata": {
        "id": "PQITvVbwINgA"
      }
    },
    {
      "cell_type": "code",
      "source": [
        "! cp /content/gdrive/MyDrive/SML_Assignment-4/mnist.zip .\n",
        "! unzip mnist.zip -d mnist/"
      ],
      "metadata": {
        "colab": {
          "base_uri": "https://localhost:8080/"
        },
        "id": "MxQgWbcovKK1",
        "outputId": "067ea24e-60aa-4785-d49b-bf72966c8263"
      },
      "execution_count": null,
      "outputs": [
        {
          "output_type": "stream",
          "name": "stdout",
          "text": [
            "Archive:  mnist.zip\n",
            "   creating: mnist/mnist/\n",
            "  inflating: mnist/mnist/readme.txt  \n",
            "  inflating: mnist/mnist/train-labels-idx1-ubyte.gz  \n",
            "  inflating: mnist/mnist/train-images-idx3-ubyte.gz  \n",
            "  inflating: mnist/mnist/t10k-images-idx3-ubyte.gz  \n",
            "  inflating: mnist/mnist/t10k-labels-idx1-ubyte.gz  \n"
          ]
        }
      ]
    },
    {
      "cell_type": "code",
      "source": [
        "import numpy as np\n",
        "import matplotlib.pyplot as plt"
      ],
      "metadata": {
        "id": "z2HOE_ywvKlB"
      },
      "execution_count": null,
      "outputs": []
    },
    {
      "cell_type": "markdown",
      "source": [
        "Visualizing one image of the MNIST Dataset"
      ],
      "metadata": {
        "id": "gsxCMRNWIRa8"
      }
    },
    {
      "cell_type": "code",
      "source": [
        "import gzip\n",
        "def images_file_read(file_name):\n",
        "    with gzip.open(file_name, 'r') as f:\n",
        "        # first 4 bytes is a magic number\n",
        "        magic_number = int.from_bytes(f.read(4), 'big')\n",
        "        # second 4 bytes is the number of images\n",
        "        image_count = int.from_bytes(f.read(4), 'big')\n",
        "        # third 4 bytes is the row count\n",
        "        row_count = int.from_bytes(f.read(4), 'big')\n",
        "        # fourth 4 bytes is the column count\n",
        "        column_count = int.from_bytes(f.read(4), 'big')\n",
        "        # rest is the image pixel data, each pixel is stored as an unsigned byte\n",
        "        # pixel values are 0 to 255\n",
        "        image_data = f.read()\n",
        "        images = np.frombuffer(image_data, dtype=np.uint8)\\\n",
        "            .reshape((image_count, row_count, column_count))\n",
        "        return images\n",
        "def labels_file_read(file_name):\n",
        "    with gzip.open(file_name, 'r') as f:\n",
        "        # first 4 bytes is a magic number\n",
        "        magic_number = int.from_bytes(f.read(4), 'big')\n",
        "        # second 4 bytes is the number of labels\n",
        "        label_count = int.from_bytes(f.read(4), 'big')\n",
        "        # rest is the label data, each label is stored as unsigned byte\n",
        "        # label values are 0 to 9\n",
        "        label_data = f.read()\n",
        "        labels = np.frombuffer(label_data, dtype=np.uint8)\n",
        "        return labels\n",
        "train_x2 = images_file_read(\"mnist/mnist/train-images-idx3-ubyte.gz\")\n",
        "print(train_x2.shape)\n",
        "train_y2 = labels_file_read(\"mnist/mnist/train-labels-idx1-ubyte.gz\")\n",
        "test_x2 = images_file_read(\"mnist/mnist/t10k-images-idx3-ubyte.gz\")\n",
        "print(test_x2.shape)\n",
        "test_y2 = labels_file_read(\"mnist/mnist/t10k-labels-idx1-ubyte.gz\")\n",
        "plt.imshow(train_x2[0])\n",
        "print(\"Label :\" ,  train_y2[0])"
      ],
      "metadata": {
        "colab": {
          "base_uri": "https://localhost:8080/",
          "height": 319
        },
        "id": "iseIQR2yvP4v",
        "outputId": "87281cad-f361-468c-deb9-3d4429ac36d8"
      },
      "execution_count": null,
      "outputs": [
        {
          "output_type": "stream",
          "name": "stdout",
          "text": [
            "(60000, 28, 28)\n",
            "(10000, 28, 28)\n",
            "Label : 5\n"
          ]
        },
        {
          "output_type": "display_data",
          "data": {
            "text/plain": [
              "<Figure size 432x288 with 1 Axes>"
            ],
            "image/png": "[encoded data removed]"
          },
          "metadata": {
            "needs_background": "light"
          }
        }
      ]
    },
    {
      "cell_type": "code",
      "source": [
        "print(train_x2.shape)\n",
        "print(test_x2.shape)\n",
        "print(train_y2.shape)\n",
        "print(test_y2.shape)"
      ],
      "metadata": {
        "colab": {
          "base_uri": "https://localhost:8080/"
        },
        "id": "fIX4b0_Rvi3j",
        "outputId": "4821a62a-c174-4ae2-f2fc-22c246d8c691"
      },
      "execution_count": null,
      "outputs": [
        {
          "output_type": "stream",
          "name": "stdout",
          "text": [
            "(60000, 28, 28)\n",
            "(10000, 28, 28)\n",
            "(60000,)\n",
            "(10000,)\n"
          ]
        }
      ]
    },
    {
      "cell_type": "markdown",
      "source": [
        "Normalizing and Centralizing the dataset"
      ],
      "metadata": {
        "id": "Buwul_P2IXLS"
      }
    },
    {
      "cell_type": "code",
      "source": [
        "train_x = (train_x2 / 255) - 0.5\n",
        "test_x = (test_x2 / 255) - 0.5"
      ],
      "metadata": {
        "id": "SGpSHOozz3c7"
      },
      "execution_count": null,
      "outputs": []
    },
    {
      "cell_type": "code",
      "source": [
        "train_x = train_x.reshape((-1, 784))\n",
        "test_x = test_x.reshape((-1, 784))"
      ],
      "metadata": {
        "id": "DgPcrngU0F7d"
      },
      "execution_count": null,
      "outputs": []
    },
    {
      "cell_type": "code",
      "source": [
        "from random import randint"
      ],
      "metadata": {
        "id": "6O_fOVW7w0O1"
      },
      "execution_count": null,
      "outputs": []
    },
    {
      "cell_type": "code",
      "source": [
        "def create_subset(train_x,train_y,rf):\n",
        "  subset_x = list()\n",
        "  subset_y = list()\n",
        "  n = int(len(train_x)*rf)\n",
        "  for i in range(n):\n",
        "    index = randint(0,len(train_x)-1)\n",
        "    subset_x.append(train_x[index])\n",
        "    subset_y.append(train_y[index])\n",
        "  return [subset_x,subset_y]"
      ],
      "metadata": {
        "id": "RXz97BwsvoT1"
      },
      "execution_count": null,
      "outputs": []
    },
    {
      "cell_type": "code",
      "source": [
        "from sklearn.tree import DecisionTreeClassifier\n",
        "from scipy import stats as s"
      ],
      "metadata": {
        "id": "zzE_XmlKx-B2"
      },
      "execution_count": null,
      "outputs": []
    },
    {
      "cell_type": "code",
      "source": [
        "def bagging_classifier(bags,train_x,train_y,test_x):\n",
        "  clf2 = bagging(bags,train_x,train_y)\n",
        "  ans = predictor(clf2,test_x)\n",
        "  maxLi = list()\n",
        "  for i in range(len(ans[0])):\n",
        "      temp = list()\n",
        "      for j in ans:\n",
        "        temp.append(j[i])\n",
        "      res = int(s.mode(temp)[0])\n",
        "      maxLi.append(res)\n",
        "  return maxLi"
      ],
      "metadata": {
        "id": "IbQKbmsWESWs"
      },
      "execution_count": null,
      "outputs": []
    },
    {
      "cell_type": "markdown",
      "source": [
        "Method defined for Bagging Classifier"
      ],
      "metadata": {
        "id": "nSkzYsT6IdAl"
      }
    },
    {
      "cell_type": "code",
      "source": [
        "def bagging(bags,train_x,train_y):\n",
        "  classifier_big_bag = list()\n",
        "  for i in range(bags):\n",
        "    d1 = create_subset(train_x,train_y,0.6)\n",
        "    d_x = np.array(d1[0])\n",
        "    d_y = np.array(d1[1])\n",
        "    clf = DecisionTreeClassifier(max_depth = 4)\n",
        "    clf.fit(d_x,d_y)\n",
        "    classifier_big_bag.append(clf)\n",
        "\n",
        "  return classifier_big_bag"
      ],
      "metadata": {
        "id": "2QtBKr5i13l0"
      },
      "execution_count": null,
      "outputs": []
    },
    {
      "cell_type": "code",
      "source": [
        "def predictor(big_bag,test_x):\n",
        "  answers = list()\n",
        "  for i in range(len(big_bag)):\n",
        "    answers.append(big_bag[i].predict(test_x))\n",
        "  return answers"
      ],
      "metadata": {
        "id": "4ShkWk_D6cGp"
      },
      "execution_count": null,
      "outputs": []
    },
    {
      "cell_type": "code",
      "source": [
        "from sklearn.metrics import accuracy_score\n",
        "accuracy_score(test_y2,bagging_classifier(3,train_x,train_y2,test_x))"
      ],
      "metadata": {
        "colab": {
          "base_uri": "https://localhost:8080/"
        },
        "id": "MOtIfIlsCj6c",
        "outputId": "e784c795-6a71-4dfa-c786-2c22603e79df"
      },
      "execution_count": null,
      "outputs": [
        {
          "output_type": "execute_result",
          "data": {
            "text/plain": [
              "0.6975"
            ]
          },
          "metadata": {},
          "execution_count": 82
        }
      ]
    }
  ]
}